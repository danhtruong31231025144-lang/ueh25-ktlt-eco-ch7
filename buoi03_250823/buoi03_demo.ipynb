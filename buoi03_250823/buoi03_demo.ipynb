{
 "cells": [
  {
   "cell_type": "markdown",
   "id": "c7f30f4a-916d-4df0-818d-069dc45c630e",
   "metadata": {},
   "source": [
    "# Phân tích và hiển thị dữ liệu"
   ]
  },
  {
   "cell_type": "code",
   "execution_count": 5,
   "id": "da0abacc-c227-4bd8-bed8-f3e7cf5897cc",
   "metadata": {},
   "outputs": [
    {
     "name": "stdout",
     "output_type": "stream",
     "text": [
      "[1, 2, 3, 4, 5]\n",
      "[1, 2, 3, 4, 5, 1, 2, 3, 4, 5]\n"
     ]
    }
   ],
   "source": [
    "v = list(range(1,6))\n",
    "print(v)\n",
    "print(2*v)"
   ]
  },
  {
   "cell_type": "code",
   "execution_count": 11,
   "id": "467f46c0-c8e6-4d7d-b4ce-3a4ba41a3138",
   "metadata": {},
   "outputs": [
    {
     "name": "stdout",
     "output_type": "stream",
     "text": [
      "[1 2 3 4 5]\n",
      "[ 2  4  6  8 10]\n"
     ]
    }
   ],
   "source": [
    "import numpy as np\n",
    "v = np.arange(1,6)\n",
    "print(v)\n",
    "print(v*2)"
   ]
  },
  {
   "cell_type": "code",
   "execution_count": 12,
   "id": "db1637d6-aae9-4bcb-b533-ea282f155a7e",
   "metadata": {},
   "outputs": [],
   "source": [
    "fruits = [\"apple\", \"banana\", \"cherry\"] #lists []\n",
    "colors = (\"red\", \"green\", \"blue\") #tuples ()\n",
    "animals = {'cat', 'dog'} #sets {}\n",
    "person = {\"name\" : \"Tom\", \"age\" : 20} #dictionaries {}"
   ]
  },
  {
   "cell_type": "code",
   "execution_count": 19,
   "id": "7d149df1-16db-47ec-9956-a11934460eb8",
   "metadata": {},
   "outputs": [
    {
     "name": "stdout",
     "output_type": "stream",
     "text": [
      "len(x)= 4\n",
      "x[0]= 60\n",
      "x[1]= 70\n",
      "x[-1]= 90\n",
      "x[1:3]= [70, 80]\n"
     ]
    }
   ],
   "source": [
    "x = [60, 70, 80, 90]\n",
    "print('len(x)=',len(x))\n",
    "print('x[0]=',x[0])\n",
    "print('x[1]=', x[1])\n",
    "print('x[-1]=',x[-1])\n",
    "print('x[1:3]=',x[1:3])"
   ]
  },
  {
   "cell_type": "code",
   "execution_count": 26,
   "id": "dcd0c6e6-27f0-4e47-b8af-3097c9e5000e",
   "metadata": {},
   "outputs": [
    {
     "name": "stdout",
     "output_type": "stream",
     "text": [
      "c = \n"
     ]
    },
    {
     "data": {
      "text/plain": [
       "array([ 4, 10, 18])"
      ]
     },
     "metadata": {},
     "output_type": "display_data"
    }
   ],
   "source": [
    "from IPython.display import display\n",
    "import numpy as np\n",
    "a = np.array([1, 2, 3])\n",
    "b = np.array([4, 5, 6])\n",
    "c = a * b\n",
    "print('c = ')\n",
    "display(c)"
   ]
  },
  {
   "cell_type": "code",
   "execution_count": 37,
   "id": "4212c4df-5f02-4245-831d-1d23bf345a3b",
   "metadata": {},
   "outputs": [
    {
     "data": {
      "text/plain": [
       "array([[0., 0.],\n",
       "       [0., 0.]])"
      ]
     },
     "metadata": {},
     "output_type": "display_data"
    },
    {
     "data": {
      "text/plain": [
       "array([[1., 1.],\n",
       "       [1., 1.],\n",
       "       [1., 1.]])"
      ]
     },
     "metadata": {},
     "output_type": "display_data"
    },
    {
     "data": {
      "text/plain": [
       "array([[7, 7, 7, 7, 7],\n",
       "       [7, 7, 7, 7, 7],\n",
       "       [7, 7, 7, 7, 7],\n",
       "       [7, 7, 7, 7, 7]])"
      ]
     },
     "metadata": {},
     "output_type": "display_data"
    },
    {
     "data": {
      "text/plain": [
       "array([[1., 0., 0., 0.],\n",
       "       [0., 1., 0., 0.],\n",
       "       [0., 0., 1., 0.],\n",
       "       [0., 0., 0., 1.]])"
      ]
     },
     "metadata": {},
     "output_type": "display_data"
    },
    {
     "data": {
      "text/plain": [
       "array([[0.9212202 , 0.69297611],\n",
       "       [0.69820671, 0.24002304]])"
      ]
     },
     "metadata": {},
     "output_type": "display_data"
    }
   ],
   "source": [
    "import numpy as np\n",
    "\n",
    "a = np.zeros((2,2))\n",
    "display(a)\n",
    "\n",
    "b = np.ones((3,2))\n",
    "display(b)\n",
    "\n",
    "c = np.full((4,5),7)\n",
    "display(c)\n",
    "\n",
    "d = np.eye(4)\n",
    "display(d)\n",
    "\n",
    "e = np.random.random((2,2))\n",
    "display(e)"
   ]
  },
  {
   "cell_type": "code",
   "execution_count": 48,
   "id": "65b39b11-019c-4562-92a3-6b2b95ecf81a",
   "metadata": {},
   "outputs": [
    {
     "data": {
      "text/plain": [
       "array([ 0.,  1.,  2.,  3.,  4.,  5.,  6.,  7.,  8.,  9., 10., 11., 12.,\n",
       "       13., 14.])"
      ]
     },
     "metadata": {},
     "output_type": "display_data"
    },
    {
     "data": {
      "text/plain": [
       "array([[ 0.,  1.,  2.,  3.,  4.],\n",
       "       [ 5.,  6.,  7.,  8.,  9.],\n",
       "       [10., 11., 12., 13., 14.]])"
      ]
     },
     "metadata": {},
     "output_type": "display_data"
    },
    {
     "data": {
      "text/plain": [
       "(3, 5)"
      ]
     },
     "metadata": {},
     "output_type": "display_data"
    },
    {
     "data": {
      "text/plain": [
       "2"
      ]
     },
     "metadata": {},
     "output_type": "display_data"
    },
    {
     "data": {
      "text/plain": [
       "dtype('float64')"
      ]
     },
     "metadata": {},
     "output_type": "display_data"
    }
   ],
   "source": [
    "import numpy as np\n",
    "a = np.arange(15, dtype=float)\n",
    "display(a)\n",
    "\n",
    "a = a.reshape(3,5)\n",
    "display(a)\n",
    "\n",
    "display(a.shape)\n",
    "display(a.ndim)\n",
    "display(a.dtype)"
   ]
  },
  {
   "cell_type": "code",
   "execution_count": 53,
   "id": "f01406b4-1e8a-4cac-bebf-146b4a28cfae",
   "metadata": {},
   "outputs": [
    {
     "data": {
      "text/plain": [
       "array([1, 2, 3, 4, 5])"
      ]
     },
     "metadata": {},
     "output_type": "display_data"
    }
   ],
   "source": [
    "import numpy as np\n",
    "a = np.array([1,2,3,4,5])\n",
    "display(a)"
   ]
  },
  {
   "cell_type": "code",
   "execution_count": null,
   "id": "361242f8-a692-4cb2-81b6-c152981d05c5",
   "metadata": {},
   "outputs": [],
   "source": []
  },
  {
   "cell_type": "markdown",
   "id": "3a28b28a-a234-43e9-a721-b68820abc140",
   "metadata": {},
   "source": [
    "## Kết thúc"
   ]
  }
 ],
 "metadata": {
  "kernelspec": {
   "display_name": "Python 3 (ipykernel)",
   "language": "python",
   "name": "python3"
  },
  "language_info": {
   "codemirror_mode": {
    "name": "ipython",
    "version": 3
   },
   "file_extension": ".py",
   "mimetype": "text/x-python",
   "name": "python",
   "nbconvert_exporter": "python",
   "pygments_lexer": "ipython3",
   "version": "3.12.1"
  }
 },
 "nbformat": 4,
 "nbformat_minor": 5
}
